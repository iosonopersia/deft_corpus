{
  "cells": [
    {
      "cell_type": "markdown",
      "metadata": {
        "id": "3oBXU9TA8gI8"
      },
      "source": [
        "# Tesi di laurea di Simone Persiani"
      ]
    },
    {
      "cell_type": "markdown",
      "metadata": {
        "id": "yixU8h1741gD"
      },
      "source": [
        "## Imports and constants"
      ]
    },
    {
      "cell_type": "code",
      "execution_count": 1,
      "metadata": {
        "id": "zNMEyiE_43Y3"
      },
      "outputs": [],
      "source": [
        "import random\n",
        "\n",
        "import pandas as pd\n",
        "import numpy as np\n",
        "from sklearn.metrics import accuracy_score, f1_score, precision_score, recall_score"
      ]
    },
    {
      "cell_type": "markdown",
      "metadata": {
        "id": "Q2TdlQ9u47lv"
      },
      "source": [
        "Imports from PyTorch:"
      ]
    },
    {
      "cell_type": "code",
      "execution_count": 2,
      "metadata": {
        "id": "UHFL-ZMx47Cy"
      },
      "outputs": [],
      "source": [
        "import torch\n",
        "\n",
        "from torch.nn import BCELoss, Module, Linear, Dropout\n",
        "from torch.optim import AdamW\n",
        "import torch.nn.functional as F\n",
        "#from torch.nn.utils.rnn import pad_sequence, pack_padded_sequence, pad_packed_sequence\n",
        "\n",
        "from torch.utils.data import Dataset, DataLoader, TensorDataset\n",
        "from torch.utils.data.sampler import WeightedRandomSampler, SequentialSampler"
      ]
    },
    {
      "cell_type": "markdown",
      "metadata": {
        "id": "BPptBT4PKdoh"
      },
      "source": [
        "Constants:"
      ]
    },
    {
      "cell_type": "code",
      "execution_count": 3,
      "metadata": {
        "colab": {
          "base_uri": "https://localhost:8080/"
        },
        "id": "79bQx0Z0Kfhl",
        "outputId": "0b768a34-2ebd-4dfc-d98d-5c6c4886698a"
      },
      "outputs": [
        {
          "name": "stdout",
          "output_type": "stream",
          "text": [
            "Using device: cuda.\n"
          ]
        }
      ],
      "source": [
        "DEVICE = torch.device(\"cuda\" if torch.cuda.is_available() else \"cpu\")\n",
        "print(f\"Using device: {DEVICE}.\")\n",
        "\n",
        "EMBEDDINGS_SIZE = 768 # or 1024 for roberta_large\n",
        "MODEL_SAVE_PATH = \"./model_augmented.pt\"\n",
        "RANDOM_SEED = 42\n",
        "DATASET = \"augmented\"  # \"preprocessed\" | \"augmented\"\n",
        "\n",
        "config = {\n",
        "  \"learning_rate\": 1e-5,\n",
        "  \"epochs\": 4,\n",
        "  \"hidden_layer_size\": 128,\n",
        "  \"batch_size\": 16,\n",
        "  \"weight_decay\": 0.01,  # NEW\n",
        "  \"label_smoothing\": 0.1,  # NEW\n",
        "  \"dataset\": DATASET\n",
        "}"
      ]
    },
    {
      "cell_type": "markdown",
      "metadata": {
        "id": "Ck_M4QzaHjCD"
      },
      "source": [
        "Setting random seeds to obtain a deterministic behaviour:"
      ]
    },
    {
      "cell_type": "code",
      "execution_count": 4,
      "metadata": {
        "id": "w1yu2ym7HoEG"
      },
      "outputs": [],
      "source": [
        "def random_state(seed):\n",
        "  random.seed(seed)\n",
        "  np.random.seed(seed)\n",
        "  torch.manual_seed(seed)\n",
        "  if torch.cuda.is_available():\n",
        "    torch.cuda.manual_seed_all(seed)\n",
        "\n",
        "random_state(RANDOM_SEED)"
      ]
    },
    {
      "cell_type": "markdown",
      "metadata": {
        "id": "uERRbKGxzCDD"
      },
      "source": [
        "## Download RoBERTa"
      ]
    },
    {
      "cell_type": "markdown",
      "metadata": {
        "id": "pQl6KLAta25F"
      },
      "source": [
        "Download the model and the tokenizer.\n",
        "\n",
        "[This work](https://github.com/avramandrei/UPB-SemEval-2020-Task-6) showed that a fine-tuned RoBERTa model is the best-performing variant of BERT."
      ]
    },
    {
      "cell_type": "code",
      "execution_count": 5,
      "metadata": {
        "colab": {
          "base_uri": "https://localhost:8080/"
        },
        "id": "Ue_YKPCOaS7c",
        "outputId": "965158cf-726e-4eeb-ec29-d1378f5a5218"
      },
      "outputs": [
        {
          "name": "stderr",
          "output_type": "stream",
          "text": [
            "Some weights of the model checkpoint at roberta-base were not used when initializing RobertaModel: ['lm_head.dense.weight', 'lm_head.dense.bias', 'lm_head.decoder.weight', 'lm_head.bias', 'lm_head.layer_norm.bias', 'lm_head.layer_norm.weight']\n",
            "- This IS expected if you are initializing RobertaModel from the checkpoint of a model trained on another task or with another architecture (e.g. initializing a BertForSequenceClassification model from a BertForPreTraining model).\n",
            "- This IS NOT expected if you are initializing RobertaModel from the checkpoint of a model that you expect to be exactly identical (initializing a BertForSequenceClassification model from a BertForSequenceClassification model).\n"
          ]
        },
        {
          "data": {
            "text/plain": [
              "2"
            ]
          },
          "execution_count": 5,
          "metadata": {},
          "output_type": "execute_result"
        }
      ],
      "source": [
        "from transformers import RobertaModel, RobertaTokenizer\n",
        "\n",
        "roberta_model = RobertaModel.from_pretrained(\"roberta-base\")\n",
        "roberta_tokenizer = RobertaTokenizer.from_pretrained(\"roberta-base\")\n",
        "roberta_tokenizer.add_tokens([\"<link>\", \"<equation>\"])"
      ]
    },
    {
      "cell_type": "markdown",
      "metadata": {
        "id": "xWQuxzzA4MDM"
      },
      "source": [
        "## Loading the dataset"
      ]
    },
    {
      "cell_type": "code",
      "execution_count": 6,
      "metadata": {
        "id": "f5GngRPp2mcH"
      },
      "outputs": [],
      "source": [
        "def load_dataset(dataset_path, tokenizer):\n",
        "  df = pd.read_csv(dataset_path, sep=\"\\t\", header=0, encoding='utf-8',\n",
        "                   names=[\"SENTENCE\", \"HAS_DEF\"], usecols=[\"SENTENCE\", \"HAS_DEF\"],\n",
        "                   dtype={\"SENTENCE\": str, \"HAS_DEF\": np.uint8})\n",
        "\n",
        "  X, y = df[\"SENTENCE\"].tolist(), df[\"HAS_DEF\"].tolist()\n",
        "\n",
        "  encodings = tokenizer(X, add_special_tokens=True, max_length=60,\n",
        "                        padding=\"longest\", truncation=\"longest_first\",\n",
        "                        return_attention_mask=True, return_tensors=\"pt\")\n",
        "\n",
        "  X = encodings['input_ids'].to(dtype=torch.int32, device='cpu')\n",
        "  y = torch.tensor(y, dtype=torch.int64, device='cpu')\n",
        "  mask = encodings['attention_mask'].to(dtype=torch.uint8, device='cpu')\n",
        "\n",
        "  dataset = TensorDataset(X, y, mask)\n",
        "\n",
        "  return dataset\n",
        "\n",
        "train_ds = load_dataset(f'./dataset/{DATASET}/train.tsv', roberta_tokenizer)\n",
        "val_ds   = load_dataset(f'./dataset/{DATASET}/dev.tsv',   roberta_tokenizer)\n",
        "test_ds  = load_dataset(f'./dataset/preprocessed/test.tsv',  roberta_tokenizer)"
      ]
    },
    {
      "cell_type": "markdown",
      "metadata": {
        "id": "EVxJb5rMBmOf"
      },
      "source": [
        "Preparing a WeightedRandomSampler so that training batches will contain, _on average_, the same amount of positive and negative samples.\n",
        "\n",
        "**This should address the problem of the unbalanced DEFT dataset. In general, one would expect definitions to be a relatively-rare occurrence in a Natural Language text.**"
      ]
    },
    {
      "cell_type": "code",
      "execution_count": 7,
      "metadata": {
        "colab": {
          "base_uri": "https://localhost:8080/"
        },
        "id": "G23hMg9GODbE",
        "outputId": "44a63532-67f5-4096-b330-24dc5f242ed8"
      },
      "outputs": [],
      "source": [
        "def buildWeightedSampler(dataset):  # NEW\n",
        "    labels = dataset.tensors[1]  # {0: X, 1: y, 2: mask}\n",
        "\n",
        "    n_samples = labels.shape[0]\n",
        "    def_samples = torch.sum(labels).item()\n",
        "\n",
        "    non_def_samples = n_samples - def_samples\n",
        "\n",
        "    class_weights = {0: n_samples / non_def_samples,\n",
        "                    1: n_samples / def_samples}\n",
        "    print(f\"Sampler weights: {class_weights}\")\n",
        "\n",
        "    sample_weights = torch.tensor([class_weights[label.item()] for label in labels], dtype=torch.double, device='cpu')\n",
        "    weighted_sampler = WeightedRandomSampler(weights=sample_weights,\n",
        "                                            num_samples=n_samples,\n",
        "                                            replacement=True)\n",
        "    # Param replacement=True means that the same sample can be selected more than once inside a single batch!\n",
        "    \n",
        "    return weighted_sampler"
      ]
    },
    {
      "cell_type": "code",
      "execution_count": 8,
      "metadata": {
        "id": "nc1OpdGdKRFI"
      },
      "outputs": [
        {
          "name": "stdout",
          "output_type": "stream",
          "text": [
            "Sampler weights: {0: 1.4560756501182033, 1: 3.1926187020526644}\n"
          ]
        }
      ],
      "source": [
        "def seed_worker(worker_id):\n",
        "    worker_seed = torch.initial_seed() % 2**32\n",
        "    np.random.seed(worker_seed)\n",
        "    random.seed(worker_seed)\n",
        "\n",
        "g = torch.Generator()\n",
        "g.manual_seed(RANDOM_SEED)\n",
        "\n",
        "train_loader = DataLoader(dataset=train_ds, batch_size=config[\"batch_size\"], sampler=buildWeightedSampler(train_ds),\n",
        "                          worker_init_fn=seed_worker, generator=g)  # We want a reproducible behaviour in the order of data loading\n",
        "val_loader = DataLoader(dataset=val_ds, batch_size=config[\"batch_size\"], sampler=SequentialSampler(val_ds))\n",
        "test_loader = DataLoader(dataset=test_ds, batch_size=config[\"batch_size\"], sampler=SequentialSampler(test_ds))"
      ]
    },
    {
      "cell_type": "code",
      "execution_count": 9,
      "metadata": {},
      "outputs": [],
      "source": [
        "def smooth_labels(labels, smoothing = 0.0):\n",
        "    assert 0 <= smoothing < 1\n",
        "\n",
        "    confidence = 1.0 - smoothing\n",
        "    uniform_probability = 0.5\n",
        "\n",
        "    smoothed_true_label = confidence + smoothing * uniform_probability\n",
        "    smoothed_false_label = smoothing * uniform_probability\n",
        "\n",
        "    smoothed_labels = torch.tensor([smoothed_true_label if v == 1 else smoothed_false_label for v in labels], dtype=torch.float, device=DEVICE, requires_grad=False)\n",
        "\n",
        "    return smoothed_labels\n"
      ]
    },
    {
      "cell_type": "markdown",
      "metadata": {
        "id": "gy2FSIIwKRe8"
      },
      "source": [
        "## Prepare the model"
      ]
    },
    {
      "cell_type": "markdown",
      "metadata": {
        "id": "X_sNSYhNzGj9"
      },
      "source": [
        "### Define the classifier model"
      ]
    },
    {
      "cell_type": "code",
      "execution_count": 10,
      "metadata": {
        "id": "NAQxZB6OzKkl"
      },
      "outputs": [],
      "source": [
        "class RoBERTaWithMLP(Module):\n",
        "  \"\"\" See: https://github.com/avramandrei/UPB-SemEval-2020-Task-6/blob/77d92e9c386f270af6ed1db259d3ba6e8bde307b/task1/model.py#L49-L80 \"\"\"\n",
        "  \n",
        "  def __init__(self, lang_model, vocab_size, input_size, hidden_size):\n",
        "    super().__init__()\n",
        "    \n",
        "    self.lang_model = lang_model\n",
        "    self.lang_model.resize_token_embeddings(vocab_size)\n",
        "\n",
        "    self.linear1 = Linear(input_size, hidden_size)\n",
        "    self.dropout1 = Dropout(0.8)\n",
        "    self.linear2 = Linear(hidden_size, hidden_size)\n",
        "    self.dropout2 = Dropout(0.8)\n",
        "    self.linear3 = Linear(hidden_size, 1)\n",
        "\n",
        "  def forward(self, x, mask):\n",
        "    embeddings = self.lang_model(x, attention_mask=mask)[0]\n",
        "    embeddings = torch.mean(embeddings, dim=1)\n",
        "\n",
        "    output = self.dropout1(F.gelu(self.linear1(embeddings)))\n",
        "    output = self.dropout2(F.gelu(self.linear2(output)))\n",
        "    output = torch.sigmoid(self.linear3(output))\n",
        "\n",
        "    return output"
      ]
    },
    {
      "cell_type": "markdown",
      "metadata": {
        "id": "5SR48nBa0Bfs"
      },
      "source": [
        "## Train the model"
      ]
    },
    {
      "cell_type": "markdown",
      "metadata": {
        "id": "g4W0v_mxDS1a"
      },
      "source": [
        "The training dataloader uses the weighted sampler instead of simply shuffling:"
      ]
    },
    {
      "cell_type": "code",
      "execution_count": 11,
      "metadata": {},
      "outputs": [],
      "source": [
        "def evaluate(model, criterion):\n",
        "  loss, acc, f1 = (0,) * 3\n",
        "  with torch.no_grad():\n",
        "    for (val_x, val_y, mask) in val_loader:\n",
        "      # Move data to the device in use\n",
        "      val_x = val_x.to(DEVICE)\n",
        "      val_y = val_y.to(DEVICE)\n",
        "      mask = mask.to(DEVICE)\n",
        "\n",
        "      # Forward pass\n",
        "      output = model.forward(val_x, mask)\n",
        "      output = torch.reshape(output, (-1,))\n",
        "\n",
        "      smoothed_labels = smooth_labels(val_y, config['label_smoothing'])\n",
        "      curr_loss = criterion(output, smoothed_labels)\n",
        "\n",
        "      # Performance evaluation\n",
        "      pred = torch.tensor([0 if x < 0.5 else 1 for x in output])\n",
        "      curr_acc = accuracy_score(val_y.cpu(), pred.cpu()) * 100.0\n",
        "      # curr_prec = precision_score(val_y.cpu(), pred.cpu()) * 100.0\n",
        "      # curr_rec = recall_score(val_y.cpu(), pred.cpu()) * 100.0\n",
        "      # curr_f1 = f1_score(val_y.cpu(), pred.cpu()) * 100.0\n",
        "\n",
        "      loss += float(curr_loss.item())\n",
        "      acc += float(curr_acc)\n",
        "      #f1 += float(curr_f1)\n",
        "      # prec += curr_prec\n",
        "      # rec += curr_rec\n",
        "      \n",
        "    loss /= len(val_loader)\n",
        "    acc /= len(val_loader)\n",
        "    # f1 /= len(val_loader)\n",
        "    # prec /= len(val_loader)\n",
        "    # rec /= len(val_loader)\n",
        "    return loss, acc"
      ]
    },
    {
      "cell_type": "code",
      "execution_count": 12,
      "metadata": {
        "colab": {
          "background_save": true,
          "base_uri": "https://localhost:8080/"
        },
        "id": "DcxtUQ8a0DEv",
        "outputId": "5b7800b9-0f90-48a3-83c5-94c1aacaf695"
      },
      "outputs": [
        {
          "name": "stdout",
          "output_type": "stream",
          "text": [
            "{'epoch': 1, 'batch': 1, 'train/loss': 0.7065033912658691, 'train/accuracy': 37.5}\n",
            "{'epoch': 1, 'batch': 501, 'train/loss': 0.6547402101838422, 'train/accuracy': 62.899201596806385}\n",
            "{'epoch': 1, 'batch': 1001, 'train/loss': 0.6076706166748519, 'train/accuracy': 70.29845154845155}\n",
            "{'epoch': 1, 'batch': 1501, 'train/loss': 0.5802838175515982, 'train/accuracy': 73.72584943371086}\n",
            "{'epoch': 1, 'validation/loss': 0.4440178293915628, 'validation/accuracy': 84.22330097087378}\n",
            "Accuracy score improved from 0 -> 84.2233. Saving model... DONE!\n",
            "{'epoch': 2, 'batch': 1, 'train/loss': 0.5744534134864807, 'train/accuracy': 75.0}\n",
            "{'epoch': 2, 'batch': 501, 'train/loss': 0.4718650896511154, 'train/accuracy': 85.60379241516966}\n",
            "{'epoch': 2, 'batch': 1001, 'train/loss': 0.4653970293112687, 'train/accuracy': 85.91408591408592}\n",
            "{'epoch': 2, 'batch': 1501, 'train/loss': 0.4562308674927635, 'train/accuracy': 86.58394403730846}\n",
            "{'epoch': 2, 'validation/loss': 0.4355101359700694, 'validation/accuracy': 85.25485436893204}\n",
            "Accuracy score improved from 84.2233 -> 85.2549. Saving model... DONE!\n",
            "{'epoch': 3, 'batch': 1, 'train/loss': 0.40396323800086975, 'train/accuracy': 81.25}\n",
            "{'epoch': 3, 'batch': 501, 'train/loss': 0.4083224466579879, 'train/accuracy': 90.5439121756487}\n",
            "{'epoch': 3, 'batch': 1001, 'train/loss': 0.3990872358972138, 'train/accuracy': 91.12762237762237}\n",
            "{'epoch': 3, 'batch': 1501, 'train/loss': 0.3917753177035419, 'train/accuracy': 91.55979347101932}\n",
            "{'epoch': 3, 'validation/loss': 0.4279682294836322, 'validation/accuracy': 85.80097087378641}\n",
            "Accuracy score improved from 85.2549 -> 85.801. Saving model... DONE!\n",
            "{'epoch': 4, 'batch': 1, 'train/loss': 0.30273306369781494, 'train/accuracy': 93.75}\n",
            "{'epoch': 4, 'batch': 501, 'train/loss': 0.3558875131095479, 'train/accuracy': 93.62524950099801}\n",
            "{'epoch': 4, 'batch': 1001, 'train/loss': 0.34843402139314045, 'train/accuracy': 93.96228771228772}\n",
            "{'epoch': 4, 'batch': 1501, 'train/loss': 0.3446843144617265, 'train/accuracy': 94.24550299800133}\n",
            "{'epoch': 4, 'validation/loss': 0.4780287579135987, 'validation/accuracy': 85.37621359223301}\n"
          ]
        }
      ],
      "source": [
        "def train():\n",
        "  vocab_size = len(roberta_tokenizer) # 50265 + 2\n",
        "\n",
        "  model = RoBERTaWithMLP(roberta_model,\n",
        "                            vocab_size,\n",
        "                            EMBEDDINGS_SIZE,\n",
        "                            config[\"hidden_layer_size\"]\n",
        "                            ).to(DEVICE)\n",
        "\n",
        "  optimizer = AdamW(model.parameters(), lr=config[\"learning_rate\"], weight_decay=config[\"weight_decay\"])\n",
        "\n",
        "  # total_steps = len(train_loader) * EPOCHS\n",
        "  # scheduler = get_linear_schedule_with_warmup(optimizer, \n",
        "  #                                             num_warmup_steps = 0, # Default value in run_glue.py\n",
        "  #                                             num_training_steps = total_steps)\n",
        "  criterion = BCELoss()\n",
        "  best_acc = 0\n",
        "\n",
        "  for epoch in range(config[\"epochs\"]):\n",
        "    model.train()\n",
        "\n",
        "    loss, acc, f1, prec, rec = (0,) * 5\n",
        "\n",
        "    for i, (train_x, train_y, mask) in enumerate(train_loader):\n",
        "      # Move data to the device in use\n",
        "      train_x = train_x.to(DEVICE)\n",
        "      train_y = train_y.to(DEVICE)\n",
        "      mask = mask.to(DEVICE)\n",
        "\n",
        "      # Forward pass\n",
        "      output = model.forward(train_x, mask)\n",
        "      output = torch.reshape(output, (-1,))\n",
        "\n",
        "      smoothed_labels = smooth_labels(train_y, config['label_smoothing'])\n",
        "      curr_loss = criterion(output, smoothed_labels)\n",
        "\n",
        "      # Backward pass\n",
        "      optimizer.zero_grad()\n",
        "      curr_loss.backward()\n",
        "\n",
        "      # Parameters update\n",
        "      optimizer.step()\n",
        "      #scheduler.step()\n",
        "\n",
        "      # Performance evaluation\n",
        "      pred = torch.tensor([0 if x < 0.5 else 1 for x in output])\n",
        "      curr_acc = accuracy_score(train_y.cpu(), pred.cpu()) * 100.0\n",
        "      # curr_f1 = f1_score(train_y.cpu(), pred.cpu()) * 100.0\n",
        "      # curr_prec = precision_score(train_y.cpu(), pred.cpu()) * 100.0\n",
        "      # curr_rec = recall_score(train_y.cpu(), pred.cpu()) * 100.0\n",
        "\n",
        "      loss += float(curr_loss.item())\n",
        "      acc += float(curr_acc)\n",
        "      # f1 += curr_f1\n",
        "      # prec += curr_prec\n",
        "      # rec += curr_rec\n",
        "      \n",
        "      if (i%500==0):\n",
        "        print({\"epoch\": epoch + 1,\n",
        "                \"batch\": i + 1,\n",
        "                \"train/loss\": loss/(i+1),\n",
        "                \"train/accuracy\": acc/(i+1),\n",
        "                #  \"train/F1-score\": f1/(i+1),\n",
        "                #  \"train/precision\": prec/(i+1),\n",
        "                #  \"train/recall\": rec/(i+1)\n",
        "                })\n",
        "\n",
        "    model.eval()\n",
        "    loss, acc = evaluate(model, criterion)\n",
        "\n",
        "    print({\"epoch\": epoch + 1,\n",
        "              \"validation/loss\": loss,\n",
        "              \"validation/accuracy\": acc,\n",
        "              #  \"validation/F1-score\": f1,\n",
        "              #  \"validation/precision\": prec,\n",
        "              #  \"validation/recall\": rec\n",
        "              })\n",
        "\n",
        "    if acc > best_acc:\n",
        "      print(f\"Accuracy score improved from {round(best_acc, 4)} -> {round(acc, 4)}. Saving model...\", end=\"\")\n",
        "      best_acc = acc\n",
        "      torch.save(model, \"./model.pt\")\n",
        "      print(\" DONE!\")\n",
        "  \n",
        "  return model\n",
        "\n",
        "trained_model = train()"
      ]
    },
    {
      "cell_type": "code",
      "execution_count": 13,
      "metadata": {
        "id": "pV8KSEDCVb2T"
      },
      "outputs": [],
      "source": [
        "import gc\n",
        "gc.collect()\n",
        "\n",
        "if DEVICE.type == \"cuda\":\n",
        "    torch.cuda.empty_cache()"
      ]
    },
    {
      "cell_type": "markdown",
      "metadata": {
        "id": "2M3hdt_aX_Xd"
      },
      "source": [
        "# Testing"
      ]
    },
    {
      "cell_type": "code",
      "execution_count": 14,
      "metadata": {
        "id": "hPEft3iMX-eU"
      },
      "outputs": [],
      "source": [
        "model = torch.load('./model.pt', map_location=DEVICE)"
      ]
    },
    {
      "cell_type": "code",
      "execution_count": 15,
      "metadata": {
        "id": "7v3DOGxQX95d"
      },
      "outputs": [],
      "source": [
        "def get_test_predictions(model):\n",
        "  model.eval()\n",
        "\n",
        "  truth = []\n",
        "  predictions=[]\n",
        "\n",
        "  with torch.no_grad():\n",
        "    for (test_x, test_y, mask) in test_loader:\n",
        "      # Move data to the device in use\n",
        "      test_x = test_x.to(DEVICE)\n",
        "      test_y = test_y.to(DEVICE)\n",
        "      mask = mask.to(DEVICE)\n",
        "\n",
        "      # Forward pass\n",
        "      output = model.forward(test_x, mask)\n",
        "      output = torch.reshape(output, (-1,))\n",
        "\n",
        "      # Model predictions\n",
        "      truth.extend(torch.flatten(test_y).tolist())\n",
        "      predictions.extend(torch.flatten(output, 0).tolist())\n",
        "\n",
        "  return truth, predictions\n",
        "\n",
        "truth, predictions = get_test_predictions(model)"
      ]
    },
    {
      "cell_type": "markdown",
      "metadata": {
        "id": "XTtCH9UEi8lM"
      },
      "source": [
        "## Use ROC curve to determine the classification threshold"
      ]
    },
    {
      "cell_type": "code",
      "execution_count": 16,
      "metadata": {
        "id": "qkTKA8ayhyGY"
      },
      "outputs": [
        {
          "data": {
            "image/png": "[encoded data removed]",
            "text/plain": [
              "<Figure size 432x288 with 1 Axes>"
            ]
          },
          "metadata": {
            "needs_background": "light"
          },
          "output_type": "display_data"
        }
      ],
      "source": [
        "import matplotlib.pyplot as plt\n",
        "from sklearn.metrics import roc_curve, RocCurveDisplay, ConfusionMatrixDisplay\n",
        "\n",
        "fpr, tpr, thresholds = roc_curve(truth, predictions, pos_label=1)\n",
        "\n",
        "RocCurveDisplay.from_predictions(truth, predictions)  # NEW\n",
        "plt.show()"
      ]
    },
    {
      "cell_type": "code",
      "execution_count": 39,
      "metadata": {
        "id": "XWQ9mZW4ideP"
      },
      "outputs": [
        {
          "name": "stdout",
          "output_type": "stream",
          "text": [
            "TEST RESULTS:\n",
            "Accuracy: 87.0%\n",
            "Precision: 79.0%\n",
            "Recall: 81.0%\n",
            "F1: 80.0%\n"
          ]
        }
      ],
      "source": [
        "OPT_THRESHOLD = 0.6\n",
        "results = [1 if x > OPT_THRESHOLD else 0 for x in predictions]\n",
        "\n",
        "test_acc = accuracy_score(truth, results)\n",
        "test_rec = recall_score(truth, results)\n",
        "test_prec = precision_score(truth, results)\n",
        "test_f1 = f1_score(truth, results)\n",
        "\n",
        "print(\"TEST RESULTS:\")\n",
        "print(f\"Accuracy: {100*round(test_acc, 2)}%\")\n",
        "print(f\"Precision: {100*round(test_prec, 2)}%\")\n",
        "print(f\"Recall: {100*round(test_rec, 2)}%\")\n",
        "print(f\"F1: {100*round(test_f1, 2)}%\")"
      ]
    },
    {
      "cell_type": "code",
      "execution_count": 40,
      "metadata": {
        "id": "3X03V9nYk-_T"
      },
      "outputs": [],
      "source": [
        "def predict(sentence):\n",
        "  encodings = roberta_tokenizer(sentence, add_special_tokens=True,\n",
        "                          padding=\"longest\", truncation=\"longest_first\",\n",
        "                          return_attention_mask=True, return_tensors=\"pt\")\n",
        "  \n",
        "  X = encodings['input_ids'].to(dtype=torch.int32, device=DEVICE)\n",
        "  mask = encodings['attention_mask'].to(dtype=torch.uint8, device=DEVICE)\n",
        "\n",
        "  model.eval()\n",
        "  with torch.no_grad():\n",
        "    score = model.forward(X, mask).item()\n",
        "  return score, 1 if score > OPT_THRESHOLD else 0"
      ]
    },
    {
      "cell_type": "code",
      "execution_count": 41,
      "metadata": {
        "id": "dObHYIvMUwMy"
      },
      "outputs": [
        {
          "data": {
            "text/plain": [
              "(0.10426387935876846, 0)"
            ]
          },
          "execution_count": 41,
          "metadata": {},
          "output_type": "execute_result"
        }
      ],
      "source": [
        "predict(\"She concluded that, if her earlier results relating the quantity of uranium to its activity were correct, then these two minerals must contain small quantities of another substance that was far more active than uranium.\")"
      ]
    },
    {
      "cell_type": "code",
      "execution_count": 42,
      "metadata": {
        "id": "poMPHgPEWNxK"
      },
      "outputs": [
        {
          "data": {
            "text/plain": [
              "(0.9136044383049011, 1)"
            ]
          },
          "execution_count": 42,
          "metadata": {},
          "output_type": "execute_result"
        }
      ],
      "source": [
        "predict(\"In engineering, a computer is a complex electronic device capable of executing algorithms.\")"
      ]
    },
    {
      "cell_type": "code",
      "execution_count": 43,
      "metadata": {
        "id": "ujUKM4gpWrJF"
      },
      "outputs": [
        {
          "data": {
            "text/plain": [
              "(0.9269786477088928, 1)"
            ]
          },
          "execution_count": 43,
          "metadata": {},
          "output_type": "execute_result"
        }
      ],
      "source": [
        "predict(\"Radioactive decay (also known as nuclear decay, radioactivity, radioactive disintegration, or nuclear disintegration) is the process by which an unstable atomic nucleus loses energy by radiation.\")"
      ]
    },
    {
      "cell_type": "code",
      "execution_count": 44,
      "metadata": {
        "id": "OR-wrCEdYjH7"
      },
      "outputs": [
        {
          "data": {
            "text/plain": [
              "(0.9196864366531372, 1)"
            ]
          },
          "execution_count": 44,
          "metadata": {},
          "output_type": "execute_result"
        }
      ],
      "source": [
        "predict(\"Dogs are animals that have four legs and are playful.\")"
      ]
    },
    {
      "cell_type": "code",
      "execution_count": 45,
      "metadata": {
        "id": "VcqVWMPQZ5Dw"
      },
      "outputs": [
        {
          "data": {
            "text/plain": [
              "(0.12848816812038422, 0)"
            ]
          },
          "execution_count": 45,
          "metadata": {},
          "output_type": "execute_result"
        }
      ],
      "source": [
        "predict(\"Yellow, blue, green and red are colors.\")"
      ]
    },
    {
      "cell_type": "markdown",
      "metadata": {
        "id": "ZbmWYpIYmoWA"
      },
      "source": [
        "The following test definitions are taken from https://www.ucfmapper.com/education/various-types-definitions/"
      ]
    },
    {
      "cell_type": "markdown",
      "metadata": {
        "id": "JQZ53pTQmt7f"
      },
      "source": [
        "**Intensional definition:**"
      ]
    },
    {
      "cell_type": "code",
      "execution_count": 46,
      "metadata": {
        "id": "pInd8NENmaZw"
      },
      "outputs": [
        {
          "data": {
            "text/plain": [
              "(0.9284198880195618, 1)"
            ]
          },
          "execution_count": 46,
          "metadata": {},
          "output_type": "execute_result"
        }
      ],
      "source": [
        "predict(\"Baked Goods are foods that are cooked in an oven of some fashion that uses prolonged dry heat, usually based on flour or corn.\")"
      ]
    },
    {
      "cell_type": "markdown",
      "metadata": {
        "id": "PoAfahkhmxts"
      },
      "source": [
        "**Extensional definition:**"
      ]
    },
    {
      "cell_type": "code",
      "execution_count": 47,
      "metadata": {
        "id": "5L7S-Nv7miJs"
      },
      "outputs": [
        {
          "data": {
            "text/plain": [
              "(0.9290803670883179, 1)"
            ]
          },
          "execution_count": 47,
          "metadata": {},
          "output_type": "execute_result"
        }
      ],
      "source": [
        "predict(\"Baked Goods are breads, cakes, pastries, cookies, biscuits, scones and similar items of food that are cooked in an oven of some fashion.\")"
      ]
    },
    {
      "cell_type": "markdown",
      "metadata": {
        "id": "7IP5ypt8m0ba"
      },
      "source": [
        "**Stipulative definition:**"
      ]
    },
    {
      "cell_type": "code",
      "execution_count": 48,
      "metadata": {
        "id": "ANI8lXo9m7zD"
      },
      "outputs": [
        {
          "data": {
            "text/plain": [
              "(0.9243605732917786, 1)"
            ]
          },
          "execution_count": 48,
          "metadata": {},
          "output_type": "execute_result"
        }
      ],
      "source": [
        "predict(\"Charlotte’s Sprinkle Scone is a baked vanilla flavored scone, dusted with sugar, covered in chocolate sprinkles both baked in and rolled onto the top of the scone.\")"
      ]
    },
    {
      "cell_type": "markdown",
      "metadata": {
        "id": "ynYWekZUnIhY"
      },
      "source": [
        "**Lexical definition:**"
      ]
    },
    {
      "cell_type": "code",
      "execution_count": 49,
      "metadata": {
        "id": "jB-LwFo2m90u"
      },
      "outputs": [
        {
          "data": {
            "text/plain": [
              "(0.8273632526397705, 1)"
            ]
          },
          "execution_count": 49,
          "metadata": {},
          "output_type": "execute_result"
        }
      ],
      "source": [
        "predict(\"Charlotte’s Sprinkle Scone: these wonderful scones are made with N parts flour, N parts water, N parts yeast, N eggs, N chocolate nibs, etc.\")"
      ]
    },
    {
      "cell_type": "markdown",
      "metadata": {
        "id": "3H1AqPyjot2Y"
      },
      "source": [
        "**Partitive definition:**"
      ]
    },
    {
      "cell_type": "code",
      "execution_count": 50,
      "metadata": {
        "id": "a72yUwc4owgK"
      },
      "outputs": [
        {
          "data": {
            "text/plain": [
              "(0.8927600979804993, 1)"
            ]
          },
          "execution_count": 50,
          "metadata": {},
          "output_type": "execute_result"
        }
      ],
      "source": [
        "predict(\"yeast: as a key ingredient for most baked goods that is commonly used as a leavening agent in baking bread and bakery products.\")"
      ]
    },
    {
      "cell_type": "markdown",
      "metadata": {
        "id": "PZKsmA9Oo6Oy"
      },
      "source": [
        "**Functional definition:**"
      ]
    },
    {
      "cell_type": "code",
      "execution_count": 51,
      "metadata": {
        "id": "QzaFspKuo83r"
      },
      "outputs": [
        {
          "data": {
            "text/plain": [
              "(0.9158445000648499, 1)"
            ]
          },
          "execution_count": 51,
          "metadata": {},
          "output_type": "execute_result"
        }
      ],
      "source": [
        "predict(\"yeast: an ingredient that is commonly used as a leavening agent in baking bread and bakery products.\")"
      ]
    },
    {
      "cell_type": "markdown",
      "metadata": {
        "id": "4NH4PJbvoIE7"
      },
      "source": [
        "**Encyclopedic definition:**"
      ]
    },
    {
      "cell_type": "code",
      "execution_count": 52,
      "metadata": {
        "id": "DIkC1Hs0oItS"
      },
      "outputs": [
        {
          "data": {
            "text/plain": [
              "(0.9012754559516907, 1)"
            ]
          },
          "execution_count": 52,
          "metadata": {},
          "output_type": "execute_result"
        }
      ],
      "source": [
        "predict(\"yeast: as a key ingredient for most baked goods that is commonly used as a leavening agent in baking bread and bakery products, where it converts the fermentable sugars present in the dough’s gluten into carbon dioxide and ethanol, thus trapping the releasing bubbles of gas into the gluten and making the dough fill up like a balloon as it rises.\")"
      ]
    },
    {
      "cell_type": "markdown",
      "metadata": {
        "id": "HrklnIKGpXbA"
      },
      "source": [
        "**Theoretical definition:**"
      ]
    },
    {
      "cell_type": "code",
      "execution_count": 53,
      "metadata": {
        "id": "f69eDCsUpYzW"
      },
      "outputs": [
        {
          "data": {
            "text/plain": [
              "(0.6225274205207825, 1)"
            ]
          },
          "execution_count": 53,
          "metadata": {},
          "output_type": "execute_result"
        }
      ],
      "source": [
        "predict(\"A scone in America is a derivative of the British scone with the following differences that have occurred because of time and mannerisms. The American scone has twice the butter-to-flour ratio as the British Scone. It is also normally chock-full of little-bits of lovely, such as currants, chocolate nibs, etc. This has occurred because of the incorrigible need for inclusiveness in the American persona. They tend to blend everything and include everything in everything. It seems more is better applies not just to their life, but to their baking world as well.\")"
      ]
    },
    {
      "cell_type": "markdown",
      "metadata": {
        "id": "roYi5KnoqYqi"
      },
      "source": [
        "**Synonym definition:**"
      ]
    },
    {
      "cell_type": "code",
      "execution_count": 63,
      "metadata": {
        "id": "E3CvfvzVqaPR"
      },
      "outputs": [
        {
          "data": {
            "text/plain": [
              "(0.5384039878845215, 0)"
            ]
          },
          "execution_count": 63,
          "metadata": {},
          "output_type": "execute_result"
        }
      ],
      "source": [
        "predict(\"Biscuit: British version of an American Cookie.\")"
      ]
    }
  ],
  "metadata": {
    "accelerator": "GPU",
    "colab": {
      "collapsed_sections": [
        "uERRbKGxzCDD",
        "f3QP2FqI4RxL"
      ],
      "name": "TL_SimonePersiani.ipynb",
      "provenance": []
    },
    "gpuClass": "standard",
    "kernelspec": {
      "display_name": "Python 3.10.2 64-bit",
      "language": "python",
      "name": "python3"
    },
    "language_info": {
      "codemirror_mode": {
        "name": "ipython",
        "version": 3
      },
      "file_extension": ".py",
      "mimetype": "text/x-python",
      "name": "python",
      "nbconvert_exporter": "python",
      "pygments_lexer": "ipython3",
      "version": "3.10.2"
    },
    "vscode": {
      "interpreter": {
        "hash": "2fab139eab8d276e062bfdde454fcd48b84ed6bf64c5efaf64b2109faa450613"
      }
    }
  },
  "nbformat": 4,
  "nbformat_minor": 0
}
