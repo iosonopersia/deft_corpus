{
  "cells": [
    {
      "cell_type": "markdown",
      "metadata": {
        "id": "3oBXU9TA8gI8"
      },
      "source": [
        "# Tesi di laurea di Simone Persiani"
      ]
    },
    {
      "cell_type": "markdown",
      "metadata": {
        "id": "yixU8h1741gD"
      },
      "source": [
        "## Imports and constants"
      ]
    },
    {
      "cell_type": "code",
      "execution_count": 28,
      "metadata": {
        "id": "zNMEyiE_43Y3"
      },
      "outputs": [],
      "source": [
        "import random\n",
        "\n",
        "import pandas as pd\n",
        "import numpy as np\n",
        "from sklearn.metrics import accuracy_score, f1_score, precision_score, recall_score"
      ]
    },
    {
      "cell_type": "markdown",
      "metadata": {
        "id": "Q2TdlQ9u47lv"
      },
      "source": [
        "Imports from PyTorch:"
      ]
    },
    {
      "cell_type": "code",
      "execution_count": 29,
      "metadata": {
        "id": "UHFL-ZMx47Cy"
      },
      "outputs": [],
      "source": [
        "import torch\n",
        "\n",
        "from torch.nn import BCELoss, Module, Linear, Dropout\n",
        "from torch.optim import AdamW, SGD\n",
        "import torch.nn.functional as F\n",
        "\n",
        "from torch.utils.data import Dataset, DataLoader, TensorDataset\n",
        "from torch.utils.data.sampler import WeightedRandomSampler, SequentialSampler"
      ]
    },
    {
      "cell_type": "markdown",
      "metadata": {
        "id": "BPptBT4PKdoh"
      },
      "source": [
        "Constants:"
      ]
    },
    {
      "cell_type": "code",
      "execution_count": 30,
      "metadata": {
        "colab": {
          "base_uri": "https://localhost:8080/"
        },
        "id": "79bQx0Z0Kfhl",
        "outputId": "431780f8-65c2-4e59-9fb2-d0615806542e"
      },
      "outputs": [
        {
          "name": "stdout",
          "output_type": "stream",
          "text": [
            "Using device: cuda.\n"
          ]
        }
      ],
      "source": [
        "DEVICE = torch.device(\"cuda\" if torch.cuda.is_available() else \"cpu\")\n",
        "print(f\"Using device: {DEVICE}.\")\n",
        "\n",
        "EMBEDDINGS_SIZE = 768 # or 1024 for roberta_large\n",
        "MODEL_SAVE_PATH = \"./model.pt\"\n",
        "RANDOM_SEED = 42\n",
        "\n",
        "config = {\n",
        "  \"learning_rate\": 1e-5,\n",
        "  \"epochs\": 4,  # Higher values (6, 8) usually lead to overfitting (based on my results)\n",
        "  \"hidden_layer_size\": 64,  # Higher values (128, 256) usually lead to overfitting (based on my results), lower values (32) to underfitting!\n",
        "  \"batch_size\": 16,\n",
        "  \"weight_decay\": 0.01,  # NEW\n",
        "  \"label_smoothing\": 0.05,  # NEW\n",
        "  \"dataset\": \"augmented\",  # \"preprocessed\" | [\"augmented\"  # NEW]\n",
        "  \"max_sequence_length\": 60  # lower value (30) decreases train/val accuracy (about -1%), higher values (90, 120) don't lead to any improvement\n",
        "}"
      ]
    },
    {
      "cell_type": "markdown",
      "metadata": {
        "id": "Ck_M4QzaHjCD"
      },
      "source": [
        "Setting random seeds to obtain a deterministic behaviour:"
      ]
    },
    {
      "cell_type": "code",
      "execution_count": 31,
      "metadata": {
        "id": "w1yu2ym7HoEG"
      },
      "outputs": [],
      "source": [
        "def random_state(seed):\n",
        "  random.seed(seed)\n",
        "  np.random.seed(seed)\n",
        "  torch.manual_seed(seed)\n",
        "  if torch.cuda.is_available():\n",
        "    torch.cuda.manual_seed_all(seed)\n",
        "\n",
        "random_state(RANDOM_SEED)"
      ]
    },
    {
      "cell_type": "markdown",
      "metadata": {
        "id": "uERRbKGxzCDD"
      },
      "source": [
        "## Download RoBERTa"
      ]
    },
    {
      "cell_type": "markdown",
      "metadata": {
        "id": "pQl6KLAta25F"
      },
      "source": [
        "Download the model and the tokenizer.\n",
        "\n",
        "[This work](https://github.com/avramandrei/UPB-SemEval-2020-Task-6) showed that a fine-tuned RoBERTa model is the best-performing variant of BERT."
      ]
    },
    {
      "cell_type": "code",
      "execution_count": 32,
      "metadata": {
        "colab": {
          "base_uri": "https://localhost:8080/"
        },
        "id": "Ue_YKPCOaS7c",
        "outputId": "7deaba21-02e1-4b0c-8d96-d34cc2121087"
      },
      "outputs": [
        {
          "name": "stderr",
          "output_type": "stream",
          "text": [
            "Some weights of the model checkpoint at roberta-base were not used when initializing RobertaModel: ['lm_head.bias', 'lm_head.layer_norm.bias', 'lm_head.dense.weight', 'lm_head.decoder.weight', 'lm_head.layer_norm.weight', 'lm_head.dense.bias']\n",
            "- This IS expected if you are initializing RobertaModel from the checkpoint of a model trained on another task or with another architecture (e.g. initializing a BertForSequenceClassification model from a BertForPreTraining model).\n",
            "- This IS NOT expected if you are initializing RobertaModel from the checkpoint of a model that you expect to be exactly identical (initializing a BertForSequenceClassification model from a BertForSequenceClassification model).\n"
          ]
        },
        {
          "data": {
            "text/plain": [
              "2"
            ]
          },
          "execution_count": 32,
          "metadata": {},
          "output_type": "execute_result"
        }
      ],
      "source": [
        "from transformers import RobertaModel, RobertaTokenizer\n",
        "\n",
        "roberta_model = RobertaModel.from_pretrained(\"roberta-base\")\n",
        "roberta_tokenizer = RobertaTokenizer.from_pretrained(\"roberta-base\")\n",
        "roberta_tokenizer.add_tokens([\"<link>\", \"<equation>\"])"
      ]
    },
    {
      "cell_type": "markdown",
      "metadata": {
        "id": "xWQuxzzA4MDM"
      },
      "source": [
        "## Loading the dataset"
      ]
    },
    {
      "cell_type": "code",
      "execution_count": 33,
      "metadata": {
        "id": "f5GngRPp2mcH"
      },
      "outputs": [],
      "source": [
        "def load_dataset(dataset_path, tokenizer):\n",
        "  df = pd.read_csv(dataset_path, sep=\"\\t\", header=0, encoding='utf-8',\n",
        "                   names=[\"SENTENCE\", \"HAS_DEF\"], usecols=[\"SENTENCE\", \"HAS_DEF\"],\n",
        "                   dtype={\"SENTENCE\": str, \"HAS_DEF\": np.uint8})\n",
        "\n",
        "  X, y = df[\"SENTENCE\"].tolist(), df[\"HAS_DEF\"].tolist()\n",
        "\n",
        "  encodings = tokenizer(X, add_special_tokens=True, max_length=config[\"max_sequence_length\"],\n",
        "                        padding=\"longest\", truncation=\"longest_first\",\n",
        "                        return_attention_mask=True, return_tensors=\"pt\")\n",
        "\n",
        "  X = encodings['input_ids'].to(dtype=torch.int32, device='cpu')\n",
        "  y = torch.tensor(y, dtype=torch.int64, device='cpu')\n",
        "  mask = encodings['attention_mask'].to(dtype=torch.uint8, device='cpu')\n",
        "\n",
        "  dataset = TensorDataset(X, y, mask)\n",
        "\n",
        "  return dataset\n",
        "\n",
        "train_ds = load_dataset(f'./dataset/{config[\"dataset\"]}/train.tsv', roberta_tokenizer)\n",
        "val_ds   = load_dataset(f'./dataset/{config[\"dataset\"]}/dev.tsv',   roberta_tokenizer)\n",
        "test_ds  = load_dataset(f'./dataset/preprocessed/test.tsv',  roberta_tokenizer)"
      ]
    },
    {
      "cell_type": "markdown",
      "metadata": {
        "id": "a4MytJ9eIfeF"
      },
      "source": [
        "## Dealing with an unbalanced dataset"
      ]
    },
    {
      "cell_type": "markdown",
      "metadata": {
        "id": "EVxJb5rMBmOf"
      },
      "source": [
        "Preparing a WeightedRandomSampler so that training batches will contain, _on average_, the same amount of positive and negative samples.\n",
        "\n",
        "**This should address the problem of the unbalanced DEFT dataset. In general, one would expect definitions to be a relatively-rare occurrence in a Natural Language text.**"
      ]
    },
    {
      "cell_type": "code",
      "execution_count": 34,
      "metadata": {
        "id": "oUn9XpDeRAIK"
      },
      "outputs": [],
      "source": [
        "#def getBalancingWeights(labels):  # NEW\n",
        "#    n_samples = labels.shape[0]\n",
        "#    def_samples = torch.sum(labels).item()\n",
        "#\n",
        "#    non_def_samples = n_samples - def_samples\n",
        "#\n",
        "#    class_weights = {0: def_samples / n_samples,\n",
        "#                    1: non_def_samples / n_samples}\n",
        "#    sample_weights = torch.tensor([class_weights[label.item()] for label in labels], dtype=torch.double, device='cpu')\n",
        "#\n",
        "#    return sample_weights, class_weights\n",
        "#\n",
        "#labels = train_ds.tensors[1]\n",
        "#sample_weights, class_weights = getBalancingWeights(labels)\n",
        "#g = torch.Generator()\n",
        "#g.manual_seed(RANDOM_SEED)\n",
        "#weighted_sampler = WeightedRandomSampler(weights=sample_weights,\n",
        "#                                        num_samples=len(train_ds),\n",
        "#                                        replacement=True, generator=g)\n",
        "## Param replacement=True means that the same sample can be selected more than once inside a single batch!\n",
        "\n",
        "#train_loader = DataLoader(dataset=train_ds, batch_size=config[\"batch_size\"], sampler=weighted_sampler)\n",
        "\n",
        "train_loader = DataLoader(dataset=train_ds, batch_size=config[\"batch_size\"], shuffle=True)\n",
        "val_loader   = DataLoader(dataset=val_ds, batch_size=config[\"batch_size\"], sampler=SequentialSampler(val_ds))\n",
        "test_loader  = DataLoader(dataset=test_ds, batch_size=config[\"batch_size\"], sampler=SequentialSampler(test_ds))"
      ]
    },
    {
      "cell_type": "markdown",
      "metadata": {
        "id": "N_Hujp7J30OD"
      },
      "source": [
        "**NEW** As an alternative, use weighted loss (by weighing more the errors done on the minority class. Just like the WeightedRandomSampler, this technique must be applied to the training set ONLY (no validation/test)!"
      ]
    },
    {
      "cell_type": "markdown",
      "metadata": {
        "id": "X_sNSYhNzGj9"
      },
      "source": [
        "## Define the classifier model"
      ]
    },
    {
      "cell_type": "code",
      "execution_count": 35,
      "metadata": {
        "id": "NAQxZB6OzKkl"
      },
      "outputs": [],
      "source": [
        "class RoBERTaWithMLP(Module):\n",
        "  \"\"\" See: https://github.com/avramandrei/UPB-SemEval-2020-Task-6/blob/77d92e9c386f270af6ed1db259d3ba6e8bde307b/task1/model.py#L49-L80 \"\"\"\n",
        "  \n",
        "  def __init__(self, lang_model, vocab_size, input_size, hidden_size):\n",
        "    super().__init__()\n",
        "    \n",
        "    self.lang_model = lang_model\n",
        "    self.lang_model.resize_token_embeddings(vocab_size)\n",
        "\n",
        "    self.linear1 = Linear(input_size, hidden_size)\n",
        "    self.dropout1 = Dropout(0.8)\n",
        "    self.linear2 = Linear(hidden_size, hidden_size)\n",
        "    self.dropout2 = Dropout(0.8)\n",
        "    self.linear3 = Linear(hidden_size, 1)\n",
        "\n",
        "  def forward(self, x, mask):\n",
        "    embeddings = self.lang_model(x, attention_mask=mask)[0]\n",
        "    embeddings = torch.mean(embeddings, dim=1)\n",
        "\n",
        "    output = self.dropout1(F.gelu(self.linear1(embeddings)))\n",
        "    output = self.dropout2(F.gelu(self.linear2(output)))\n",
        "    output = torch.sigmoid(self.linear3(output))\n",
        "\n",
        "    return output"
      ]
    },
    {
      "cell_type": "markdown",
      "metadata": {
        "id": "2M3hdt_aX_Xd"
      },
      "source": [
        "# Testing"
      ]
    },
    {
      "cell_type": "code",
      "execution_count": 36,
      "metadata": {
        "id": "hPEft3iMX-eU"
      },
      "outputs": [],
      "source": [
        "model = torch.load(MODEL_SAVE_PATH, map_location=DEVICE)"
      ]
    },
    {
      "cell_type": "code",
      "execution_count": 37,
      "metadata": {
        "id": "I64vQ7oMT91c"
      },
      "outputs": [],
      "source": [
        "def get_test_predictions(model):\n",
        "  model.eval()\n",
        "\n",
        "  truth = []\n",
        "  predictions=[]\n",
        "\n",
        "  with torch.no_grad():\n",
        "    for (test_x, test_y, mask) in test_loader:\n",
        "      # Move data to the device in use\n",
        "      test_x = test_x.to(DEVICE)\n",
        "      test_y = test_y.to(DEVICE)\n",
        "      mask = mask.to(DEVICE)\n",
        "\n",
        "      # Forward pass\n",
        "      output = model.forward(test_x, mask)\n",
        "      output = torch.reshape(output, (-1,))\n",
        "\n",
        "      # Model predictions\n",
        "      truth.extend(torch.flatten(test_y).tolist())\n",
        "      predictions.extend(torch.flatten(output, 0).tolist())\n",
        "\n",
        "  return truth, predictions\n",
        "\n",
        "truth, predictions = get_test_predictions(model)"
      ]
    },
    {
      "cell_type": "markdown",
      "metadata": {
        "id": "XTtCH9UEi8lM"
      },
      "source": [
        "## Use ROC curve to determine the classification threshold"
      ]
    },
    {
      "cell_type": "code",
      "execution_count": 38,
      "metadata": {
        "colab": {
          "base_uri": "https://localhost:8080/",
          "height": 279
        },
        "id": "qkTKA8ayhyGY",
        "outputId": "68d402fe-4e2c-4b5b-9dfe-063a015aa1bf"
      },
      "outputs": [
        {
          "data": {
            "image/png": "[encoded data removed]",
            "text/plain": [
              "<Figure size 640x480 with 1 Axes>"
            ]
          },
          "metadata": {},
          "output_type": "display_data"
        }
      ],
      "source": [
        "import matplotlib.pyplot as plt\n",
        "from sklearn.metrics import roc_curve, RocCurveDisplay, ConfusionMatrixDisplay\n",
        "\n",
        "fpr, tpr, thresholds = roc_curve(truth, predictions, pos_label=1)\n",
        "\n",
        "RocCurveDisplay.from_predictions(truth, predictions)  # NEW\n",
        "plt.show()"
      ]
    },
    {
      "cell_type": "code",
      "execution_count": 39,
      "metadata": {
        "colab": {
          "base_uri": "https://localhost:8080/",
          "height": 366
        },
        "id": "XWQ9mZW4ideP",
        "outputId": "f07a11ac-26cb-4c23-fb93-2ae45b2f39a1"
      },
      "outputs": [
        {
          "name": "stdout",
          "output_type": "stream",
          "text": [
            "TEST RESULTS:\n",
            "Accuracy: 87.35%\n",
            "Precision: 80.36%\n",
            "Recall: 81.23%\n",
            "F1: 80.79%\n"
          ]
        },
        {
          "data": {
            "image/png": "[encoded data removed]",
            "text/plain": [
              "<Figure size 640x480 with 2 Axes>"
            ]
          },
          "metadata": {},
          "output_type": "display_data"
        }
      ],
      "source": [
        "OPT_THRESHOLD = 0.6\n",
        "results = [1 if x > OPT_THRESHOLD else 0 for x in predictions]\n",
        "\n",
        "test_acc = 100*accuracy_score(truth, results)\n",
        "test_rec = 100*recall_score(truth, results)\n",
        "test_prec = 100*precision_score(truth, results)\n",
        "test_f1 = 100*f1_score(truth, results)\n",
        "\n",
        "print(\"TEST RESULTS:\")\n",
        "print(f\"Accuracy: {round(test_acc, 2)}%\")\n",
        "print(f\"Precision: {round(test_prec, 2)}%\")\n",
        "print(f\"Recall: {round(test_rec, 2)}%\")\n",
        "print(f\"F1: {round(test_f1, 2)}%\")\n",
        "\n",
        "ConfusionMatrixDisplay.from_predictions(truth, results)\n",
        "plt.show()"
      ]
    },
    {
      "cell_type": "code",
      "execution_count": 40,
      "metadata": {
        "id": "3X03V9nYk-_T"
      },
      "outputs": [],
      "source": [
        "def predict(sentence):\n",
        "  encodings = roberta_tokenizer(sentence, add_special_tokens=True,\n",
        "                          padding=\"longest\", truncation=\"longest_first\",\n",
        "                          return_attention_mask=True, return_tensors=\"pt\")\n",
        "  \n",
        "  X = encodings['input_ids'].to(dtype=torch.int32, device=DEVICE)\n",
        "  mask = encodings['attention_mask'].to(dtype=torch.uint8, device=DEVICE)\n",
        "\n",
        "  model.eval()\n",
        "  with torch.no_grad():\n",
        "    score = model.forward(X, mask).item()\n",
        "  return score, 1 if score > OPT_THRESHOLD else 0"
      ]
    },
    {
      "cell_type": "code",
      "execution_count": 41,
      "metadata": {
        "colab": {
          "base_uri": "https://localhost:8080/"
        },
        "id": "dObHYIvMUwMy",
        "outputId": "c58845d1-ee6f-4e35-f593-e71fc4d28a3b"
      },
      "outputs": [
        {
          "data": {
            "text/plain": [
              "(0.17758753895759583, 0)"
            ]
          },
          "execution_count": 41,
          "metadata": {},
          "output_type": "execute_result"
        }
      ],
      "source": [
        "predict(\"She concluded that, if her earlier results relating the quantity of uranium to its activity were correct, then these two minerals must contain small quantities of another substance that was far more active than uranium.\")"
      ]
    },
    {
      "cell_type": "code",
      "execution_count": 42,
      "metadata": {
        "colab": {
          "base_uri": "https://localhost:8080/"
        },
        "id": "poMPHgPEWNxK",
        "outputId": "55667275-7ecb-4d0b-ea53-44c5b1f630e5"
      },
      "outputs": [
        {
          "data": {
            "text/plain": [
              "(0.9247405529022217, 1)"
            ]
          },
          "execution_count": 42,
          "metadata": {},
          "output_type": "execute_result"
        }
      ],
      "source": [
        "predict(\"In engineering, a computer is a complex electronic device capable of executing algorithms.\")"
      ]
    },
    {
      "cell_type": "code",
      "execution_count": 43,
      "metadata": {
        "colab": {
          "base_uri": "https://localhost:8080/"
        },
        "id": "ujUKM4gpWrJF",
        "outputId": "88225448-df10-4520-a91d-7815c73f970c"
      },
      "outputs": [
        {
          "data": {
            "text/plain": [
              "(0.9257554411888123, 1)"
            ]
          },
          "execution_count": 43,
          "metadata": {},
          "output_type": "execute_result"
        }
      ],
      "source": [
        "predict(\"Radioactive decay (also known as nuclear decay, radioactivity, radioactive disintegration, or nuclear disintegration) is the process by which an unstable atomic nucleus loses energy by radiation.\")"
      ]
    },
    {
      "cell_type": "code",
      "execution_count": 44,
      "metadata": {
        "colab": {
          "base_uri": "https://localhost:8080/"
        },
        "id": "OR-wrCEdYjH7",
        "outputId": "ca094d75-e201-4111-f79d-dd94bb2d7aeb"
      },
      "outputs": [
        {
          "data": {
            "text/plain": [
              "(0.9237014055252075, 1)"
            ]
          },
          "execution_count": 44,
          "metadata": {},
          "output_type": "execute_result"
        }
      ],
      "source": [
        "predict(\"Dogs are animals that have four legs and are playful.\")"
      ]
    },
    {
      "cell_type": "code",
      "execution_count": 45,
      "metadata": {
        "colab": {
          "base_uri": "https://localhost:8080/"
        },
        "id": "VcqVWMPQZ5Dw",
        "outputId": "ee684af3-5b21-4af3-e949-ac034ce2df74"
      },
      "outputs": [
        {
          "data": {
            "text/plain": [
              "(0.20424801111221313, 0)"
            ]
          },
          "execution_count": 45,
          "metadata": {},
          "output_type": "execute_result"
        }
      ],
      "source": [
        "predict(\"Yellow, blue, green and red are colors.\")"
      ]
    },
    {
      "cell_type": "markdown",
      "metadata": {
        "id": "ZbmWYpIYmoWA"
      },
      "source": [
        "The following test definitions are taken from https://www.ucfmapper.com/education/various-types-definitions/"
      ]
    },
    {
      "cell_type": "markdown",
      "metadata": {
        "id": "JQZ53pTQmt7f"
      },
      "source": [
        "**Intensional definition:**"
      ]
    },
    {
      "cell_type": "code",
      "execution_count": 46,
      "metadata": {
        "colab": {
          "base_uri": "https://localhost:8080/"
        },
        "id": "pInd8NENmaZw",
        "outputId": "d729d895-e50c-44d3-a2a7-a34707629d71"
      },
      "outputs": [
        {
          "data": {
            "text/plain": [
              "(0.9258827567100525, 1)"
            ]
          },
          "execution_count": 46,
          "metadata": {},
          "output_type": "execute_result"
        }
      ],
      "source": [
        "predict(\"Baked Goods are foods that are cooked in an oven of some fashion that uses prolonged dry heat, usually based on flour or corn.\")"
      ]
    },
    {
      "cell_type": "markdown",
      "metadata": {
        "id": "PoAfahkhmxts"
      },
      "source": [
        "**Extensional definition:**"
      ]
    },
    {
      "cell_type": "code",
      "execution_count": 47,
      "metadata": {
        "colab": {
          "base_uri": "https://localhost:8080/"
        },
        "id": "5L7S-Nv7miJs",
        "outputId": "c63df807-654f-4c4d-a6c7-72bdc196b35f"
      },
      "outputs": [
        {
          "data": {
            "text/plain": [
              "(0.9243714213371277, 1)"
            ]
          },
          "execution_count": 47,
          "metadata": {},
          "output_type": "execute_result"
        }
      ],
      "source": [
        "predict(\"Baked Goods are breads, cakes, pastries, cookies, biscuits, scones and similar items of food that are cooked in an oven of some fashion.\")"
      ]
    },
    {
      "cell_type": "markdown",
      "metadata": {
        "id": "7IP5ypt8m0ba"
      },
      "source": [
        "**Stipulative definition:**"
      ]
    },
    {
      "cell_type": "code",
      "execution_count": 48,
      "metadata": {
        "colab": {
          "base_uri": "https://localhost:8080/"
        },
        "id": "ANI8lXo9m7zD",
        "outputId": "ca66fc53-e148-460e-9545-7f0d7202c95f"
      },
      "outputs": [
        {
          "data": {
            "text/plain": [
              "(0.9216310977935791, 1)"
            ]
          },
          "execution_count": 48,
          "metadata": {},
          "output_type": "execute_result"
        }
      ],
      "source": [
        "predict(\"Charlotte’s Sprinkle Scone is a baked vanilla flavored scone, dusted with sugar, covered in chocolate sprinkles both baked in and rolled onto the top of the scone.\")"
      ]
    },
    {
      "cell_type": "markdown",
      "metadata": {
        "id": "ynYWekZUnIhY"
      },
      "source": [
        "**Lexical definition:**"
      ]
    },
    {
      "cell_type": "code",
      "execution_count": 49,
      "metadata": {
        "colab": {
          "base_uri": "https://localhost:8080/"
        },
        "id": "jB-LwFo2m90u",
        "outputId": "2d6de53a-a89a-46bc-ab89-a9d64af6ecee"
      },
      "outputs": [
        {
          "data": {
            "text/plain": [
              "(0.39946600794792175, 0)"
            ]
          },
          "execution_count": 49,
          "metadata": {},
          "output_type": "execute_result"
        }
      ],
      "source": [
        "predict(\"Charlotte’s Sprinkle Scone: these wonderful scones are made with N parts flour, N parts water, N parts yeast, N eggs, N chocolate nibs, etc.\")"
      ]
    },
    {
      "cell_type": "markdown",
      "metadata": {
        "id": "3H1AqPyjot2Y"
      },
      "source": [
        "**Partitive definition:**"
      ]
    },
    {
      "cell_type": "code",
      "execution_count": 50,
      "metadata": {
        "colab": {
          "base_uri": "https://localhost:8080/"
        },
        "id": "a72yUwc4owgK",
        "outputId": "2e4e393c-f94d-43ed-c739-414cd044c311"
      },
      "outputs": [
        {
          "data": {
            "text/plain": [
              "(0.3444909453392029, 0)"
            ]
          },
          "execution_count": 50,
          "metadata": {},
          "output_type": "execute_result"
        }
      ],
      "source": [
        "predict(\"yeast: as a key ingredient for most baked goods that is commonly used as a leavening agent in baking bread and bakery products.\")"
      ]
    },
    {
      "cell_type": "markdown",
      "metadata": {
        "id": "PZKsmA9Oo6Oy"
      },
      "source": [
        "**Functional definition:**"
      ]
    },
    {
      "cell_type": "code",
      "execution_count": 51,
      "metadata": {
        "colab": {
          "base_uri": "https://localhost:8080/"
        },
        "id": "QzaFspKuo83r",
        "outputId": "dd66fbf7-5fa8-4bf3-fef6-dbfb8cb472ef"
      },
      "outputs": [
        {
          "data": {
            "text/plain": [
              "(0.8366174101829529, 1)"
            ]
          },
          "execution_count": 51,
          "metadata": {},
          "output_type": "execute_result"
        }
      ],
      "source": [
        "predict(\"yeast: an ingredient that is commonly used as a leavening agent in baking bread and bakery products.\")"
      ]
    },
    {
      "cell_type": "markdown",
      "metadata": {
        "id": "4NH4PJbvoIE7"
      },
      "source": [
        "**Encyclopedic definition:**"
      ]
    },
    {
      "cell_type": "code",
      "execution_count": 52,
      "metadata": {
        "colab": {
          "base_uri": "https://localhost:8080/"
        },
        "id": "DIkC1Hs0oItS",
        "outputId": "1225210c-7636-4ef1-a703-0015d369a384"
      },
      "outputs": [
        {
          "data": {
            "text/plain": [
              "(0.8443688750267029, 1)"
            ]
          },
          "execution_count": 52,
          "metadata": {},
          "output_type": "execute_result"
        }
      ],
      "source": [
        "predict(\"yeast: as a key ingredient for most baked goods that is commonly used as a leavening agent in baking bread and bakery products, where it converts the fermentable sugars present in the dough’s gluten into carbon dioxide and ethanol, thus trapping the releasing bubbles of gas into the gluten and making the dough fill up like a balloon as it rises.\")"
      ]
    },
    {
      "cell_type": "markdown",
      "metadata": {
        "id": "HrklnIKGpXbA"
      },
      "source": [
        "**Theoretical definition:**"
      ]
    },
    {
      "cell_type": "code",
      "execution_count": 53,
      "metadata": {
        "colab": {
          "base_uri": "https://localhost:8080/"
        },
        "id": "f69eDCsUpYzW",
        "outputId": "6ecf65f8-a0b3-4647-d3ba-f5714092ef80"
      },
      "outputs": [
        {
          "data": {
            "text/plain": [
              "(0.36389023065567017, 0)"
            ]
          },
          "execution_count": 53,
          "metadata": {},
          "output_type": "execute_result"
        }
      ],
      "source": [
        "predict(\"A scone in America is a derivative of the British scone with the following differences that have occurred because of time and mannerisms. The American scone has twice the butter-to-flour ratio as the British Scone. It is also normally chock-full of little-bits of lovely, such as currants, chocolate nibs, etc. This has occurred because of the incorrigible need for inclusiveness in the American persona. They tend to blend everything and include everything in everything. It seems more is better applies not just to their life, but to their baking world as well.\")"
      ]
    },
    {
      "cell_type": "markdown",
      "metadata": {
        "id": "roYi5KnoqYqi"
      },
      "source": [
        "**Synonym definition:**"
      ]
    },
    {
      "cell_type": "code",
      "execution_count": 54,
      "metadata": {
        "colab": {
          "base_uri": "https://localhost:8080/"
        },
        "id": "E3CvfvzVqaPR",
        "outputId": "899bcef6-246d-4dd4-a07a-d817cee07cb8"
      },
      "outputs": [
        {
          "data": {
            "text/plain": [
              "(0.38066306710243225, 0)"
            ]
          },
          "execution_count": 54,
          "metadata": {},
          "output_type": "execute_result"
        }
      ],
      "source": [
        "predict(\"Biscuit: British version of an American Cookie.\")"
      ]
    }
  ],
  "metadata": {
    "accelerator": "GPU",
    "colab": {
      "collapsed_sections": [
        "0dvS5IAWdh9G",
        "uERRbKGxzCDD",
        "xWQuxzzA4MDM",
        "a4MytJ9eIfeF",
        "1FnCfQ5eIaJt",
        "X_sNSYhNzGj9"
      ],
      "provenance": []
    },
    "gpuClass": "standard",
    "kernelspec": {
      "display_name": "Python 3.10.2 64-bit",
      "language": "python",
      "name": "python3"
    },
    "language_info": {
      "codemirror_mode": {
        "name": "ipython",
        "version": 3
      },
      "file_extension": ".py",
      "mimetype": "text/x-python",
      "name": "python",
      "nbconvert_exporter": "python",
      "pygments_lexer": "ipython3",
      "version": "3.10.2"
    },
    "vscode": {
      "interpreter": {
        "hash": "2fab139eab8d276e062bfdde454fcd48b84ed6bf64c5efaf64b2109faa450613"
      }
    }
  },
  "nbformat": 4,
  "nbformat_minor": 0
}
